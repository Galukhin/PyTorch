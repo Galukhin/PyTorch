{
  "cells": [
    {
      "cell_type": "code",
      "execution_count": 1,
      "metadata": {
        "id": "_CNZn_3CofVO"
      },
      "outputs": [],
      "source": [
        "import torch"
      ]
    },
    {
      "cell_type": "code",
      "execution_count": 2,
      "metadata": {
        "id": "QGYTKAxeofVR"
      },
      "outputs": [],
      "source": [
        "# 1. Создайте случайный FloatTensor размера 3x4x5\n",
        "a = torch.randn(3, 4, 5)"
      ]
    },
    {
      "cell_type": "code",
      "execution_count": 3,
      "metadata": {
        "id": "7GV_q8DdofVV",
        "colab": {
          "base_uri": "https://localhost:8080/"
        },
        "outputId": "0e2726e8-08f7-4459-da77-2a2dd56425ef"
      },
      "outputs": [
        {
          "output_type": "execute_result",
          "data": {
            "text/plain": [
              "torch.Size([3, 4, 5])"
            ]
          },
          "metadata": {},
          "execution_count": 3
        }
      ],
      "source": [
        "# 2. Выведите его форму (shape)\n",
        "a.shape"
      ]
    },
    {
      "cell_type": "code",
      "execution_count": 4,
      "metadata": {
        "id": "f1OTy65FofVX",
        "colab": {
          "base_uri": "https://localhost:8080/"
        },
        "outputId": "0df7eeff-9023-43e0-891c-f98d4ce12340"
      },
      "outputs": [
        {
          "output_type": "execute_result",
          "data": {
            "text/plain": [
              "torch.Size([6, 10])"
            ]
          },
          "metadata": {},
          "execution_count": 4
        }
      ],
      "source": [
        "# 3. Приведите его к форме 6х10\n",
        "a = a.reshape(6, 10)\n",
        "a.shape"
      ]
    },
    {
      "cell_type": "code",
      "execution_count": 5,
      "metadata": {
        "id": "BEVOv9_TofVe",
        "colab": {
          "base_uri": "https://localhost:8080/",
          "height": 35
        },
        "outputId": "4f62e974-200e-4e39-b4b7-90a4779ffd44"
      },
      "outputs": [
        {
          "output_type": "execute_result",
          "data": {
            "text/plain": [
              "'torch.IntTensor'"
            ],
            "application/vnd.google.colaboratory.intrinsic+json": {
              "type": "string"
            }
          },
          "metadata": {},
          "execution_count": 5
        }
      ],
      "source": [
        "# 4. Создайте случайный IntTensor размера 10\n",
        "b = torch.randint(10, size=(10,)).int()\n",
        "b.type()"
      ]
    },
    {
      "cell_type": "code",
      "source": [
        "# 5. Умножьте созданный FloatTensor на созданный IntTensor поэлементно\n",
        "a * b"
      ],
      "metadata": {
        "id": "TAX3DUiSa07K",
        "colab": {
          "base_uri": "https://localhost:8080/"
        },
        "outputId": "9d14f78c-7781-4c00-ca70-8b116aeef42b"
      },
      "execution_count": 6,
      "outputs": [
        {
          "output_type": "execute_result",
          "data": {
            "text/plain": [
              "tensor([[  0.3222,   4.0534,  -1.7277,  -1.1372,   0.0000,  -3.7040,   0.0000,\n",
              "          11.4799,   0.4910,  -2.0251],\n",
              "        [ -4.6046,   0.8926,   5.6881,  -3.2633,  -0.0000,  -1.9917,  -0.0000,\n",
              "          -4.1723,  -0.4067, -10.5585],\n",
              "        [ -3.8123,   5.8065,  -4.4775,   5.4771,  -0.0000,  -5.3240,  -0.0000,\n",
              "           2.0889,  -2.6695,  -3.0888],\n",
              "        [ -1.1439,   4.4772,  -2.2540,  -0.9392,   0.0000, -14.8670,  -0.0000,\n",
              "           6.6293,  -1.4087,  -0.2417],\n",
              "        [  0.3352,   9.4010,   4.4768,  -2.7824,  -0.0000,  -3.7146,  -0.0000,\n",
              "          -1.8781,  -1.5909,   1.4817],\n",
              "        [ 10.5658,   3.6661,  -0.3439,  -0.6585,  -0.0000,   9.2027,   0.0000,\n",
              "          -7.3952,   0.3959,   2.1571]])"
            ]
          },
          "metadata": {},
          "execution_count": 6
        }
      ]
    },
    {
      "cell_type": "code",
      "execution_count": 7,
      "metadata": {
        "id": "eUxdWlQZofVi",
        "colab": {
          "base_uri": "https://localhost:8080/"
        },
        "outputId": "00346085-ce34-452b-b0e7-e00005f8704f"
      },
      "outputs": [
        {
          "output_type": "execute_result",
          "data": {
            "text/plain": [
              "tensor([[ 8.6677, -2.0566, -0.8313,  1.0292, -0.5115, -0.3092],\n",
              "        [-2.0566,  8.7822,  0.5142,  0.6479,  2.5366, -0.7630],\n",
              "        [-0.8313,  0.5142,  9.4105,  4.2740,  1.7056, -2.3939],\n",
              "        [ 1.0292,  0.6479,  4.2740,  9.3546,  3.6877, -7.2594],\n",
              "        [-0.5115,  2.5366,  1.7056,  3.6877,  6.5013,  0.6235],\n",
              "        [-0.3092, -0.7630, -2.3939, -7.2594,  0.6235, 11.7532]])"
            ]
          },
          "metadata": {},
          "execution_count": 7
        }
      ],
      "source": [
        "# 6. Умножьте тензор матрично на себя, чтобы результат был размерности 6x6\n",
        "# Подсказка: .dot может не подойти\n",
        "torch.matmul(a, a.T)"
      ]
    },
    {
      "cell_type": "code",
      "execution_count": 8,
      "metadata": {
        "id": "u3V6CsNkofVj",
        "colab": {
          "base_uri": "https://localhost:8080/"
        },
        "outputId": "785fddd2-b864-4eca-e653-58cc0a826ef5"
      },
      "outputs": [
        {
          "output_type": "stream",
          "name": "stdout",
          "text": [
            "tensor([3.]) tensor([1.]) tensor([-75.])\n"
          ]
        }
      ],
      "source": [
        "# 7. Посчитайте производную функции y = x**3 + z - 75t в точке (1, 0.5, 2)\n",
        "x = torch.tensor([1]).float()\n",
        "x.requires_grad = True\n",
        "z = torch.tensor([.5]).float()\n",
        "z.requires_grad = True\n",
        "t = torch.tensor([2]).float()\n",
        "t.requires_grad = True\n",
        "y = x**3 + z - 75*t\n",
        "y.backward()\n",
        "print(x.grad, z.grad, t.grad)"
      ]
    },
    {
      "cell_type": "code",
      "execution_count": 9,
      "metadata": {
        "id": "FzH6QkyxofVm",
        "colab": {
          "base_uri": "https://localhost:8080/"
        },
        "outputId": "544e8493-2e5e-49aa-9020-744dffeed949"
      },
      "outputs": [
        {
          "output_type": "execute_result",
          "data": {
            "text/plain": [
              "tensor([[1., 1., 1., 1., 1., 1.],\n",
              "        [1., 1., 1., 1., 1., 1.],\n",
              "        [1., 1., 1., 1., 1., 1.],\n",
              "        [1., 1., 1., 1., 1., 1.],\n",
              "        [1., 1., 1., 1., 1., 1.]])"
            ]
          },
          "metadata": {},
          "execution_count": 9
        }
      ],
      "source": [
        "# 8. Создайте единичный тензор размера 5x6\n",
        "c = torch.ones((5, 6))\n",
        "c"
      ]
    },
    {
      "cell_type": "code",
      "execution_count": 10,
      "metadata": {
        "id": "z49ttvWPofVo",
        "colab": {
          "base_uri": "https://localhost:8080/"
        },
        "outputId": "94ec63fa-df39-4a32-d35d-6f8e4b2d3a65"
      },
      "outputs": [
        {
          "output_type": "execute_result",
          "data": {
            "text/plain": [
              "array([[1., 1., 1., 1., 1., 1.],\n",
              "       [1., 1., 1., 1., 1., 1.],\n",
              "       [1., 1., 1., 1., 1., 1.],\n",
              "       [1., 1., 1., 1., 1., 1.],\n",
              "       [1., 1., 1., 1., 1., 1.]], dtype=float32)"
            ]
          },
          "metadata": {},
          "execution_count": 10
        }
      ],
      "source": [
        "# 9. Переведите его в формат numpy\n",
        "d = c.numpy()\n",
        "d"
      ]
    }
  ],
  "metadata": {
    "kernelspec": {
      "display_name": "Python 3",
      "language": "python",
      "name": "python3"
    },
    "language_info": {
      "codemirror_mode": {
        "name": "ipython",
        "version": 3
      },
      "file_extension": ".py",
      "mimetype": "text/x-python",
      "name": "python",
      "nbconvert_exporter": "python",
      "pygments_lexer": "ipython3",
      "version": "3.7.4"
    },
    "colab": {
      "name": "HW_1.ipynb",
      "provenance": [],
      "collapsed_sections": []
    }
  },
  "nbformat": 4,
  "nbformat_minor": 0
}